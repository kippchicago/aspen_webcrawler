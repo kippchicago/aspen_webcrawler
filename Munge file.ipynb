{
 "cells": [
  {
   "cell_type": "code",
   "execution_count": 73,
   "metadata": {},
   "outputs": [],
   "source": [
    "import pandas as pd"
   ]
  },
  {
   "cell_type": "code",
   "execution_count": 75,
   "metadata": {},
   "outputs": [],
   "source": [
    "ascend_active_attendance = pd.read_csv('data/ascend_active_attendance.csv')\n",
    "ascend_former_attendance = pd.read_csv('data/ascend_former_attendance.csv')"
   ]
  },
  {
   "cell_type": "code",
   "execution_count": 77,
   "metadata": {},
   "outputs": [],
   "source": [
    "def cleanAttendance(attendance_file):\n",
    "    \n",
    "    # Drop empty rows\n",
    "    attendance_file.dropna(subset=['Student.1'], inplace = True)\n",
    "\n",
    "    # Chose subset of columns to keep\n",
    "    attendance_file = attendance_file[['Student', 'Grade', 'Homeroom', 'Member', 'Present', 'Absent', 'Tardy', 'Dismiss']]\n",
    "\n",
    "    # filter out renments of excel pagination\n",
    "    attendance_file = attendance_file.loc[attendance_file['Student'] != \"CHARTER\"]\n",
    "    attendance_file = attendance_file.loc[attendance_file['Student'] != \"Student\"]\n",
    "    attendance_file = attendance_file.loc[~attendance_file['Student'].str.contains(\"Page\")]\n",
    "    \n",
    "    return(attendance_file)"
   ]
  },
  {
   "cell_type": "code",
   "execution_count": 78,
   "metadata": {},
   "outputs": [],
   "source": [
    "ascend_active_attendance_clean = cleanAttendance(ascend_active_attendance)\n",
    "ascend_former_attendance_clean = cleanAttendance(ascend_former_attendance)"
   ]
  },
  {
   "cell_type": "code",
   "execution_count": 81,
   "metadata": {},
   "outputs": [],
   "source": [
    "ascend_active_attendance_clean.to_csv('data/ascend_active_attendance_final.csv')"
   ]
  },
  {
   "cell_type": "code",
   "execution_count": 82,
   "metadata": {},
   "outputs": [],
   "source": [
    "ascend_former_attendance_clean.to_csv('data/ascend_former_attendance_final.csv')"
   ]
  }
 ],
 "metadata": {
  "kernelspec": {
   "display_name": "Python 3",
   "language": "python",
   "name": "python3"
  },
  "language_info": {
   "codemirror_mode": {
    "name": "ipython",
    "version": 3
   },
   "file_extension": ".py",
   "mimetype": "text/x-python",
   "name": "python",
   "nbconvert_exporter": "python",
   "pygments_lexer": "ipython3",
   "version": "3.7.6"
  }
 },
 "nbformat": 4,
 "nbformat_minor": 4
}
